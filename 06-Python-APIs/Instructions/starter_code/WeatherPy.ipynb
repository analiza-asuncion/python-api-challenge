{
 "cells": [
  {
   "cell_type": "markdown",
   "metadata": {},
   "source": [
    "# WeatherPy\n",
    "----\n",
    "\n",
    "#### Note\n",
    "* Instructions have been included for each segment. You do not have to follow them exactly, but they are included to help you think through the steps."
   ]
  },
  {
   "cell_type": "code",
   "execution_count": null,
   "metadata": {},
   "outputs": [],
   "source": [
    "# Dependencies and Setup\n",
    "import matplotlib.pyplot as plt\n",
    "import pandas as pd\n",
    "import numpy as np\n",
    "import requests\n",
    "import time\n",
    "import scipy.stats as stats\n",
    "import datetime\n",
    "import json\n",
    "from config import api_key\n",
    "# Incorporated citipy to determine city based on latitude and longitude\n",
    "from citipy import citipy\n",
    "# Output File (CSV)\n",
    "output_data_file = \"output_data/cities.csv\"\n",
    "# Range of latitudes and longitudes\n",
    "lat_range = (-90, 90)\n",
    "lng_range = (-180, 180)"
   ]
  },
  {
   "cell_type": "code",
   "execution_count": null,
   "metadata": {},
   "outputs": [],
   "source": [
    "# List for holding lat_lngs and cities\n",
    "lat_lngs = []\n",
    "cities = []\n",
    "# Create a set of random lat and lng combinations\n",
    "lats = np.random.uniform(low=-90.000, high=90.000, size=1750)\n",
    "lngs = np.random.uniform(low=-180.000, high=180.000, size=1750)\n",
    "lat_lngs = zip(lats, lngs)\n",
    "# Identify nearest city for each lat, lng combination\n",
    "for lat_lng in lat_lngs:\n",
    "    city = citipy.nearest_city(lat_lng[0], lat_lng[1]).city_name\n",
    "    \n",
    "    # If the city is unique, then add it to a our cities list\n",
    "    if city not in cities:\n",
    "        cities.append(city)\n",
    "# Print the city count to confirm sufficient count\n",
    "len(cities)"
   ]
  },
  {
   "cell_type": "markdown",
   "metadata": {},
   "source": [
    "## Generate Cities List"
   ]
  },
  {
   "cell_type": "code",
   "execution_count": null,
   "metadata": {},
   "outputs": [
    {
     "name": "stdout",
     "output_type": "stream",
     "text": [
      "Processing Record 1 | necochea\n",
      "Processing Record 2 | walvis bay\n",
      "Processing Record 3 | itarema\n",
      "Processing Record 4 | yanam\n",
      "Processing Record 5 | aksarka\n",
      "Processing Record 6 | chokurdakh\n",
      "Processing Record 7 | klaksvik\n",
      "Processing Record 8 | punta arenas\n",
      "Processing Record 9 | albany\n",
      "Processing Record 10 | mataura\n",
      "Processing Record 11 | tiptur\n",
      "Processing Record 12 | kabare\n",
      "Processing Record 13 | attawapiskat\n",
      "Couldn't locate data. Skipping city!\n",
      "Processing Record 14 | komsomolskiy\n",
      "Processing Record 15 | jamestown\n",
      "Processing Record 16 | taolanaro\n",
      "Couldn't locate data. Skipping city!\n",
      "Processing Record 17 | pevek\n",
      "Processing Record 18 | butaritari\n",
      "Processing Record 19 | la ronge\n",
      "Processing Record 20 | hay river\n",
      "Processing Record 21 | tocopilla\n",
      "Processing Record 22 | sobolevo\n",
      "Processing Record 23 | mecca\n",
      "Processing Record 24 | derzhavinsk\n",
      "Processing Record 25 | port elizabeth\n",
      "Processing Record 26 | tasiilaq\n",
      "Processing Record 27 | mexico\n",
      "Processing Record 28 | new norfolk\n",
      "Processing Record 29 | atuona\n",
      "Processing Record 30 | shahr-e kord\n",
      "Processing Record 31 | mezen\n",
      "Processing Record 32 | umkomaas\n",
      "Processing Record 33 | ushuaia\n",
      "Processing Record 34 | rikitea\n",
      "Processing Record 35 | namibe\n",
      "Processing Record 36 | nikolskoye\n",
      "Processing Record 37 | airai\n",
      "Processing Record 38 | erenhot\n",
      "Processing Record 39 | lagoa\n",
      "Processing Record 40 | arraial do cabo\n",
      "Processing Record 41 | santa maria da vitoria\n",
      "Processing Record 42 | fortuna\n",
      "Processing Record 43 | maymyo\n",
      "Processing Record 44 | micoud\n",
      "Processing Record 45 | tevaitoa\n",
      "Processing Record 46 | bosaso\n",
      "Processing Record 47 | narsaq\n",
      "Processing Record 48 | duz\n",
      "Couldn't locate data. Skipping city!\n",
      "Processing Record 49 | aflao\n",
      "Processing Record 50 | oksfjord\n",
      "Processing Record 51 | puerto ayora\n",
      "Processing Record 52 | vaini\n",
      "Processing Record 53 | okaya\n",
      "Processing Record 54 | belushya guba\n",
      "Couldn't locate data. Skipping city!\n",
      "Processing Record 55 | tura\n",
      "Processing Record 56 | bluff\n",
      "Processing Record 57 | kamenskiy\n",
      "Processing Record 58 | hobart\n",
      "Processing Record 59 | ewo\n",
      "Processing Record 60 | okha\n",
      "Processing Record 61 | virginia beach\n",
      "Processing Record 62 | hithadhoo\n",
      "Processing Record 63 | avarua\n",
      "Processing Record 64 | shar\n",
      "Processing Record 65 | watertown\n",
      "Processing Record 66 | farmington\n",
      "Processing Record 67 | nadym\n",
      "Processing Record 68 | laguna\n",
      "Processing Record 69 | bengkulu\n",
      "Processing Record 70 | artyk\n",
      "Couldn't locate data. Skipping city!\n",
      "Processing Record 71 | fuling\n",
      "Processing Record 72 | delitzsch\n",
      "Processing Record 73 | kon tum\n",
      "Processing Record 74 | labuhan\n",
      "Processing Record 75 | kawana waters\n",
      "Couldn't locate data. Skipping city!\n",
      "Processing Record 76 | deputatskiy\n",
      "Processing Record 77 | korla\n",
      "Processing Record 78 | busselton\n",
      "Processing Record 79 | seoul\n",
      "Processing Record 80 | caravelas\n",
      "Processing Record 81 | mount gambier\n",
      "Processing Record 82 | souillac\n",
      "Processing Record 83 | bredasdorp\n",
      "Processing Record 84 | olafsvik\n",
      "Processing Record 85 | geraldton\n",
      "Processing Record 86 | east london\n",
      "Processing Record 87 | wanaka\n",
      "Processing Record 88 | paradwip\n",
      "Couldn't locate data. Skipping city!\n",
      "Processing Record 89 | hirara\n",
      "Processing Record 90 | mar del plata\n",
      "Processing Record 91 | barentsburg\n",
      "Couldn't locate data. Skipping city!\n",
      "Processing Record 92 | acapulco\n",
      "Processing Record 93 | palabuhanratu\n",
      "Couldn't locate data. Skipping city!\n",
      "Processing Record 94 | thompson\n",
      "Processing Record 95 | port-gentil\n",
      "Processing Record 96 | port alfred\n",
      "Processing Record 97 | kaz\n",
      "Processing Record 98 | taoudenni\n",
      "Processing Record 99 | te anau\n",
      "Processing Record 100 | tuy hoa\n",
      "Processing Record 101 | hermanus\n",
      "Processing Record 102 | kholodnyy\n",
      "Processing Record 103 | dikson\n",
      "Processing Record 104 | ostrovnoy\n",
      "Processing Record 105 | ahipara\n",
      "Processing Record 106 | illoqqortoormiut\n",
      "Couldn't locate data. Skipping city!\n",
      "Processing Record 107 | dukat\n",
      "Processing Record 108 | novobirilyussy\n",
      "Processing Record 109 | qaqortoq\n",
      "Processing Record 110 | aklavik\n",
      "Processing Record 111 | mahebourg\n",
      "Processing Record 112 | port keats\n",
      "Processing Record 113 | cape town\n",
      "Processing Record 114 | new providence\n",
      "Processing Record 115 | whithorn\n",
      "Processing Record 116 | arkul\n",
      "Processing Record 117 | khatanga\n",
      "Processing Record 118 | torbay\n",
      "Processing Record 119 | hilo\n",
      "Processing Record 120 | lebu\n",
      "Processing Record 121 | tasbuget\n",
      "Couldn't locate data. Skipping city!\n",
      "Processing Record 122 | malinyi\n",
      "Processing Record 123 | san patricio\n",
      "Processing Record 124 | victoria\n",
      "Processing Record 125 | provideniya\n",
      "Processing Record 126 | aykhal\n",
      "Processing Record 127 | huarmey\n",
      "Processing Record 128 | cananeia\n",
      "Processing Record 129 | shima\n",
      "Processing Record 130 | yeniseysk\n",
      "Processing Record 131 | lompoc\n",
      "Processing Record 132 | halalo\n",
      "Couldn't locate data. Skipping city!\n",
      "Processing Record 133 | amderma\n",
      "Couldn't locate data. Skipping city!\n",
      "Processing Record 134 | de aar\n",
      "Processing Record 135 | jacareacanga\n",
      "Processing Record 136 | esperance\n",
      "Processing Record 137 | banda aceh\n",
      "Processing Record 138 | mabaruma\n",
      "Processing Record 139 | novikovo\n",
      "Processing Record 140 | westport\n",
      "Processing Record 141 | kapaa\n",
      "Processing Record 142 | marevo\n",
      "Processing Record 143 | clyde river\n",
      "Processing Record 144 | masvingo\n",
      "Processing Record 145 | ngaoundere\n",
      "Processing Record 146 | mount isa\n",
      "Processing Record 147 | hihifo\n",
      "Couldn't locate data. Skipping city!\n",
      "Processing Record 148 | vestmanna\n",
      "Processing Record 149 | arinos\n",
      "Processing Record 150 | knysna\n",
      "Processing Record 151 | chuy\n",
      "Processing Record 152 | la orilla\n",
      "Processing Record 153 | lakes entrance\n",
      "Processing Record 154 | richards bay\n",
      "Processing Record 155 | cabo san lucas\n",
      "Processing Record 156 | shitanjing\n",
      "Processing Record 157 | akureyri\n",
      "Processing Record 158 | tuktoyaktuk\n",
      "Processing Record 159 | zaysan\n",
      "Processing Record 160 | sitka\n",
      "Processing Record 161 | pryluky\n",
      "Processing Record 162 | san jeronimo\n",
      "Processing Record 163 | gornopravdinsk\n",
      "Processing Record 164 | barawe\n",
      "Couldn't locate data. Skipping city!\n",
      "Processing Record 165 | kulunda\n",
      "Processing Record 166 | nanortalik\n",
      "Processing Record 167 | morehead\n",
      "Processing Record 168 | nuqui\n",
      "Processing Record 169 | strunino\n",
      "Processing Record 170 | laguna de perlas\n",
      "Processing Record 171 | zhigansk\n",
      "Processing Record 172 | egvekinot\n",
      "Processing Record 173 | sangar\n",
      "Processing Record 174 | barrow\n",
      "Processing Record 175 | bontang\n",
      "Processing Record 176 | yulara\n",
      "Processing Record 177 | miri\n",
      "Processing Record 178 | ilulissat\n",
      "Processing Record 179 | anadyr\n",
      "Processing Record 180 | ribeira grande\n",
      "Processing Record 181 | tsihombe\n",
      "Couldn't locate data. Skipping city!\n",
      "Processing Record 182 | fukue\n",
      "Processing Record 183 | tuatapere\n",
      "Processing Record 184 | leavenworth\n",
      "Processing Record 185 | tsiroanomandidy\n",
      "Processing Record 186 | nizwa\n",
      "Processing Record 187 | pinotepa nacional\n",
      "Processing Record 188 | khonuu\n",
      "Couldn't locate data. Skipping city!\n",
      "Processing Record 189 | tautira\n",
      "Processing Record 190 | grand centre\n",
      "Couldn't locate data. Skipping city!\n",
      "Processing Record 191 | orlik\n",
      "Processing Record 192 | waipawa\n",
      "Processing Record 193 | alice springs\n",
      "Processing Record 194 | alugan\n",
      "Processing Record 195 | faridan\n",
      "Couldn't locate data. Skipping city!\n",
      "Processing Record 196 | castro\n",
      "Processing Record 197 | samusu\n",
      "Couldn't locate data. Skipping city!\n",
      "Processing Record 198 | sao felix do xingu\n",
      "Processing Record 199 | ruatoria\n",
      "Couldn't locate data. Skipping city!\n",
      "Processing Record 200 | cayenne\n",
      "Processing Record 201 | santa cruz cabralia\n",
      "Processing Record 202 | kirakira\n",
      "Processing Record 203 | pisco\n",
      "Processing Record 204 | georgetown\n",
      "Processing Record 205 | severo-kurilsk\n",
      "Processing Record 206 | harda\n",
      "Processing Record 207 | damghan\n",
      "Processing Record 208 | betul\n",
      "Processing Record 209 | haines junction\n",
      "Processing Record 210 | saint-philippe\n",
      "Processing Record 211 | hasaki\n",
      "Processing Record 212 | nelson bay\n",
      "Processing Record 213 | chik\n",
      "Processing Record 214 | la romana\n",
      "Processing Record 215 | harper\n",
      "Processing Record 216 | yellowknife\n",
      "Processing Record 217 | maragogi\n",
      "Processing Record 218 | broome\n",
      "Processing Record 219 | mildura\n",
      "Processing Record 220 | saleaula\n",
      "Couldn't locate data. Skipping city!\n",
      "Processing Record 221 | bayir\n",
      "Processing Record 222 | umzimvubu\n",
      "Couldn't locate data. Skipping city!\n",
      "Processing Record 223 | picota\n",
      "Processing Record 224 | gazanjyk\n"
     ]
    },
    {
     "name": "stdout",
     "output_type": "stream",
     "text": [
      "Processing Record 225 | talnakh\n",
      "Processing Record 226 | coihaique\n",
      "Processing Record 227 | burnie\n",
      "Processing Record 228 | matara\n",
      "Processing Record 229 | fare\n",
      "Processing Record 230 | sept-iles\n",
      "Processing Record 231 | delemont\n",
      "Processing Record 232 | krasnoselkup\n",
      "Processing Record 233 | pierre\n",
      "Processing Record 234 | freetown\n",
      "Processing Record 235 | cherskiy\n",
      "Processing Record 236 | madimba\n",
      "Processing Record 237 | muros\n",
      "Processing Record 238 | upata\n",
      "Processing Record 239 | bilibino\n",
      "Processing Record 240 | yambio\n",
      "Processing Record 241 | kamskiye polyany\n",
      "Processing Record 242 | avera\n",
      "Processing Record 243 | belaya gora\n",
      "Processing Record 244 | sobolivka\n",
      "Processing Record 245 | den helder\n",
      "Processing Record 246 | kerteh\n",
      "Couldn't locate data. Skipping city!\n",
      "Processing Record 247 | norman wells\n",
      "Processing Record 248 | upernavik\n",
      "Processing Record 249 | hauterive\n",
      "Processing Record 250 | atar\n",
      "Processing Record 251 | melbu\n",
      "Processing Record 252 | puerto escondido\n",
      "Processing Record 253 | barra do garcas\n",
      "Processing Record 254 | eyl\n",
      "Processing Record 255 | losino-petrovskiy\n",
      "Processing Record 256 | pachino\n",
      "Processing Record 257 | vardo\n",
      "Processing Record 258 | saint george\n",
      "Processing Record 259 | barbar\n",
      "Couldn't locate data. Skipping city!\n",
      "Processing Record 260 | hofn\n",
      "Processing Record 261 | lyuban\n",
      "Processing Record 262 | vao\n",
      "Processing Record 263 | salalah\n",
      "Processing Record 264 | vila do maio\n",
      "Processing Record 265 | natal\n",
      "Processing Record 266 | nome\n",
      "Processing Record 267 | olga\n",
      "Processing Record 268 | khor\n",
      "Processing Record 269 | atambua\n",
      "Processing Record 270 | rio de janeiro\n",
      "Processing Record 271 | perevolotskiy\n",
      "Processing Record 272 | guymon\n",
      "Processing Record 273 | copiapo\n",
      "Processing Record 274 | kiruna\n",
      "Processing Record 275 | qurbah\n",
      "Couldn't locate data. Skipping city!\n",
      "Processing Record 276 | samalaeulu\n",
      "Couldn't locate data. Skipping city!\n",
      "Processing Record 277 | sinnamary\n",
      "Processing Record 278 | saskylakh\n",
      "Processing Record 279 | lorengau\n",
      "Processing Record 280 | araouane\n",
      "Processing Record 281 | kodiak\n",
      "Processing Record 282 | bathsheba\n",
      "Processing Record 283 | okandja\n",
      "Couldn't locate data. Skipping city!\n",
      "Processing Record 284 | karpathos\n",
      "Processing Record 285 | nuuk\n",
      "Processing Record 286 | eatonton\n",
      "Processing Record 287 | swan hill\n",
      "Processing Record 288 | kalmunai\n",
      "Processing Record 289 | merauke\n",
      "Processing Record 290 | male\n",
      "Processing Record 291 | ussel\n",
      "Processing Record 292 | nemuro\n",
      "Processing Record 293 | hashimoto\n",
      "Processing Record 294 | tessalit\n",
      "Processing Record 295 | la paz\n",
      "Processing Record 296 | fairbanks\n",
      "Processing Record 297 | tonj\n",
      "Processing Record 298 | surt\n",
      "Processing Record 299 | touros\n",
      "Processing Record 300 | polazna\n",
      "Processing Record 301 | boguchany\n",
      "Processing Record 302 | marsh harbour\n",
      "Processing Record 303 | ponta do sol\n",
      "Processing Record 304 | langue\n",
      "Processing Record 305 | kangasala\n",
      "Processing Record 306 | san juan\n",
      "Processing Record 307 | prudentopolis\n",
      "Processing Record 308 | faanui\n",
      "Processing Record 309 | kaitangata\n",
      "Processing Record 310 | manuk mangkaw\n",
      "Processing Record 311 | aktau\n",
      "Processing Record 312 | high level\n",
      "Processing Record 313 | rocha\n",
      "Processing Record 314 | cuajinicuilapa\n",
      "Processing Record 315 | ust-kulom\n",
      "Processing Record 316 | amapa\n",
      "Processing Record 317 | basco\n",
      "Processing Record 318 | sorong\n",
      "Processing Record 319 | amnat charoen\n",
      "Processing Record 320 | grindavik\n",
      "Processing Record 321 | fort nelson\n",
      "Processing Record 322 | grand gaube\n",
      "Processing Record 323 | coquimbo\n",
      "Processing Record 324 | eregli\n",
      "Processing Record 325 | carnarvon\n",
      "Processing Record 326 | taklisah\n",
      "Processing Record 327 | krasnyy chikoy\n",
      "Processing Record 328 | iquique\n",
      "Processing Record 329 | shelabolikha\n",
      "Processing Record 330 | boende\n",
      "Processing Record 331 | mogadishu\n",
      "Processing Record 332 | dhanaura\n",
      "Processing Record 333 | darhan\n",
      "Processing Record 334 | port shepstone\n",
      "Processing Record 335 | bud\n",
      "Processing Record 336 | saldanha\n",
      "Processing Record 337 | ixtapa\n",
      "Processing Record 338 | santa cruz del norte\n",
      "Processing Record 339 | morro bay\n",
      "Processing Record 340 | taft\n",
      "Processing Record 341 | trairi\n",
      "Processing Record 342 | bethel\n",
      "Processing Record 343 | pokhara\n",
      "Processing Record 344 | tiksi\n",
      "Processing Record 345 | yamada\n",
      "Processing Record 346 | senneterre\n",
      "Processing Record 347 | port blair\n",
      "Processing Record 348 | waingapu\n",
      "Processing Record 349 | kenscoff\n",
      "Processing Record 350 | mbanza-ngungu\n",
      "Processing Record 351 | niscemi\n",
      "Processing Record 352 | charo\n",
      "Processing Record 353 | qaanaaq\n",
      "Processing Record 354 | sola\n",
      "Processing Record 355 | santa maria\n",
      "Processing Record 356 | ayna\n",
      "Processing Record 357 | taonan\n",
      "Processing Record 358 | mrirt\n",
      "Couldn't locate data. Skipping city!\n",
      "Processing Record 359 | kegayli\n",
      "Couldn't locate data. Skipping city!\n",
      "Processing Record 360 | husavik\n",
      "Processing Record 361 | grants\n",
      "Processing Record 362 | port hardy\n",
      "Processing Record 363 | lahij\n",
      "Processing Record 364 | evensk\n",
      "Processing Record 365 | nanakuli\n",
      "Processing Record 366 | katsuura\n"
     ]
    }
   ],
   "source": [
    "base_url = \"http://api.openweathermap.org/data/2.5/weather?\"\n",
    "units = \"metric\"\n",
    "count = 0\n",
    "city_names = []\n",
    "clouds = []\n",
    "countries = []\n",
    "dates = []\n",
    "humidities = []\n",
    "latitudes = []\n",
    "longitudes = []\n",
    "max_temps = []\n",
    "wind_speeds = []\n",
    "for city in cities:\n",
    "    try:\n",
    "        query = f\"{base_url}appid={api_key}&units={units}&q=\"\n",
    "        response = requests.get(query + city).json()\n",
    "        count = count + 1\n",
    "        print(f\"Processing Record {count} | {city}\")\n",
    "        country = response[\"sys\"][\"country\"]\n",
    "        latitude = response[\"coord\"][\"lat\"]\n",
    "        longitude = response[\"coord\"][\"lon\"]\n",
    "        date = response[\"dt\"]\n",
    "        temp = 1.8*(response[\"main\"][\"temp_max\"]) + 32\n",
    "        humidity = response[\"main\"][\"humidity\"]\n",
    "        cloudiness = response[\"clouds\"][\"all\"]\n",
    "        wind_speed = 2.236936*(response[\"wind\"][\"speed\"])\n",
    "        city_names.append(city)\n",
    "        latitudes.append(latitude)\n",
    "        longitudes.append(longitude)\n",
    "        countries.append(country)\n",
    "        dates.append(date)\n",
    "        max_temps.append(temp)\n",
    "        humidities.append(humidity)\n",
    "        clouds.append(cloudiness)\n",
    "        wind_speeds.append(wind_speed)\n",
    "        \n",
    "    except KeyError:\n",
    "        print(\"Couldn't locate data. Skipping city!\")\n",
    "           \n",
    "weather_data = {\"City\": city_names,\n",
    "                \"Cloudiness\": clouds,\n",
    "                \"Country\": countries,\n",
    "                \"Date\": dates,\n",
    "                \"Humidity\": humidities,\n",
    "                \"Lat\": latitudes,\n",
    "                \"Lng\": longitudes,\n",
    "                \"Max Temp\": max_temps,\n",
    "                \"Wind Speeds\": wind_speeds}\n",
    "weather_reports = pd.DataFrame(weather_data)\n",
    "weather_reports[[\"Max Temp\", \"Wind Speeds\"]] = weather_reports[[\"Max Temp\", \"Wind Speeds\"]].apply(pd.to_numeric)\n",
    "weather_reports[\"Max Temp\"] = weather_reports[\"Max Temp\"].map(\"{:.2f}\".format)\n",
    "weather_reports[\"Wind Speeds\"] = weather_reports[\"Wind Speeds\"].map(\"{:.2f}\".format)\n",
    "weather_reports\n",
    "    "
   ]
  },
  {
   "cell_type": "code",
   "execution_count": null,
   "metadata": {},
   "outputs": [],
   "source": [
    "converted_dates = []\n",
    "for date in dates:\n",
    "    converted_date = datetime.datetime.fromtimestamp(date).strftime(\"%m/%d/%Y\")\n",
    "    converted_dates.append(converted_date)\n",
    "    \n",
    "weather_reports[\"Converted Date\"] = converted_dates\n",
    "weather_reports = weather_reports[[\"City\", \n",
    "                                   \"Cloudiness\", \n",
    "                                   \"Country\", \n",
    "                                   \"Date\", \n",
    "                                   \"Converted Date\", \n",
    "                                   \"Humidity\", \n",
    "                                   \"Lat\", \n",
    "                                   \"Lng\", \n",
    "                                   \"Max Temp\", \n",
    "                                   \"Wind Speeds\"]]\n",
    "plot_date = weather_reports.loc[0, \"Converted Date\"]\n",
    "plt.scatter(weather_reports[\"Lat\"], weather_data[\"Max Temp\"], facecolor=\"#66CDAA\", edgecolor=\"black\")\n",
    "plt.title(f\"City Latitude vs. Max Temperature ({plot_date})\")\n",
    "plt.xlabel(\"Latitude\")\n",
    "plt.ylabel(\"Max Temperature (F)\")\n",
    "plt.grid()\n",
    "plt.show()\n",
    "print(\"The above scatter plot shows the relationship between the latitude of cities and their maximum temperatures, as recorded on June 14, 2020.\")\n"
   ]
  },
  {
   "cell_type": "code",
   "execution_count": null,
   "metadata": {},
   "outputs": [],
   "source": [
    "plt.scatter(weather_reports[\"Lat\"], weather_data[\"Humidity\"], facecolor=\"#E3CF57\", edgecolor=\"black\")\n",
    "plt.title(f\"City Latitude vs. Humidity ({plot_date})\")\n",
    "plt.xlabel(\"Latitude\")\n",
    "plt.ylabel(\"Humidity (%)\")\n",
    "plt.grid()\n",
    "plt.show()\n",
    "print(\"The above scatter plot shows the relationship between the latitude of cities and their humidity, as recorded on June 14, 2020.\")\n"
   ]
  },
  {
   "cell_type": "code",
   "execution_count": null,
   "metadata": {},
   "outputs": [],
   "source": [
    "plt.scatter(weather_reports[\"Lat\"], weather_data[\"Cloudiness\"], facecolor=\"#838B8B\", edgecolor=\"black\")\n",
    "plt.title(f\"City Latitude vs. Humidity ({plot_date})\")\n",
    "plt.xlabel(\"Latitude\")\n",
    "plt.ylabel(\"Cloudiness (%)\")\n",
    "plt.grid()\n",
    "plt.show()\n"
   ]
  },
  {
   "cell_type": "code",
   "execution_count": null,
   "metadata": {},
   "outputs": [],
   "source": [
    "print(\"The above scatter plot shows the relationship between the latitude of cities and their cloudiness, as recorded on June 14, 2020.\")\n",
    "plt.scatter(weather_reports[\"Lat\"], weather_data[\"Wind Speeds\"], facecolor=\"#6495ED\", edgecolor=\"black\")\n",
    "plt.title(f\"City Latitude vs. Wind Speeds ({plot_date})\")\n",
    "plt.xlabel(\"Latitude\")\n",
    "plt.ylabel(\"Wind Speed (mph)\")\n",
    "plt.grid()\n",
    "plt.show()\n",
    "print(\"The above scatter plot shows the relationship between the latitude of cities and wind speeds, as recorded on June 14, 2020.\")"
   ]
  },
  {
   "cell_type": "code",
   "execution_count": null,
   "metadata": {},
   "outputs": [],
   "source": [
    "# Northern DF\n",
    "northern_df = weather_reports.loc[weather_reports[\"Lat\"] > 0,:]\n",
    "print(northern_df)\n"
   ]
  },
  {
   "cell_type": "code",
   "execution_count": null,
   "metadata": {},
   "outputs": [],
   "source": [
    "# Southern DF\n",
    "southern_df = weather_reports.loc[weather_reports[\"Lat\"] < 0,:]\n",
    "southern_df.head()"
   ]
  },
  {
   "cell_type": "code",
   "execution_count": null,
   "metadata": {},
   "outputs": [],
   "source": [
    "# Set X and Y vals\n",
    "x_values = northern_df[\"Max Temp\"].astype(float)\n",
    "y_values = northern_df[\"Lat\"].astype(float)\n",
    "# Run regression\n",
    "(slope, intercept, rvalue, pvalue, stderr) = stats.linregress(x_values, y_values)\n",
    "# Get regression values\n",
    "regress_values = x_values * slope + intercept\n",
    "# Create line equation string\n",
    "line_eq = \"y = \" + str(round(slope,2)) + \"x +\" + str(round(intercept,2))\n",
    "# print(regress_values)\n",
    "# To add regress line to your plot:\n",
    "plt.scatter(x_values,y_values)\n",
    "plt.plot(x_values,regress_values,\"r-\")\n",
    "# To add the equation to your plot:\n",
    "plt.annotate(line_eq,(30,10),fontsize=15,color=\"red\")\n",
    "# Make Labels\n",
    "plt.xlabel(\"Max Temp (F)\")\n",
    "plt.ylabel(\"Latitude\")\n",
    "plt.show()"
   ]
  },
  {
   "cell_type": "code",
   "execution_count": null,
   "metadata": {},
   "outputs": [],
   "source": []
  },
  {
   "cell_type": "code",
   "execution_count": null,
   "metadata": {},
   "outputs": [],
   "source": []
  },
  {
   "cell_type": "markdown",
   "metadata": {},
   "source": [
    "### Perform API Calls\n",
    "* Perform a weather check on each city using a series of successive API calls.\n",
    "* Include a print log of each city as it'sbeing processed (with the city number and city name).\n"
   ]
  },
  {
   "cell_type": "markdown",
   "metadata": {},
   "source": [
    "### Convert Raw Data to DataFrame\n",
    "* Export the city data into a .csv.\n",
    "* Display the DataFrame"
   ]
  },
  {
   "cell_type": "code",
   "execution_count": null,
   "metadata": {},
   "outputs": [],
   "source": []
  },
  {
   "cell_type": "code",
   "execution_count": null,
   "metadata": {},
   "outputs": [],
   "source": []
  },
  {
   "cell_type": "markdown",
   "metadata": {},
   "source": [
    "### Plotting the Data\n",
    "* Use proper labeling of the plots using plot titles (including date of analysis) and axes labels.\n",
    "* Save the plotted figures as .pngs."
   ]
  },
  {
   "cell_type": "markdown",
   "metadata": {},
   "source": [
    "#### Latitude vs. Temperature Plot"
   ]
  },
  {
   "cell_type": "code",
   "execution_count": null,
   "metadata": {
    "scrolled": true
   },
   "outputs": [],
   "source": []
  },
  {
   "cell_type": "markdown",
   "metadata": {},
   "source": [
    "#### Latitude vs. Humidity Plot"
   ]
  },
  {
   "cell_type": "code",
   "execution_count": null,
   "metadata": {},
   "outputs": [],
   "source": []
  },
  {
   "cell_type": "markdown",
   "metadata": {},
   "source": [
    "#### Latitude vs. Cloudiness Plot"
   ]
  },
  {
   "cell_type": "code",
   "execution_count": null,
   "metadata": {},
   "outputs": [],
   "source": []
  },
  {
   "cell_type": "markdown",
   "metadata": {},
   "source": [
    "#### Latitude vs. Wind Speed Plot"
   ]
  },
  {
   "cell_type": "code",
   "execution_count": null,
   "metadata": {},
   "outputs": [],
   "source": []
  },
  {
   "cell_type": "markdown",
   "metadata": {},
   "source": [
    "## Linear Regression"
   ]
  },
  {
   "cell_type": "code",
   "execution_count": 17,
   "metadata": {},
   "outputs": [],
   "source": [
    "# OPTIONAL: Create a function to create Linear Regression plots\n"
   ]
  },
  {
   "cell_type": "code",
   "execution_count": 18,
   "metadata": {},
   "outputs": [],
   "source": [
    "# Create Northern and Southern Hemisphere DataFrames\n"
   ]
  },
  {
   "cell_type": "markdown",
   "metadata": {},
   "source": [
    "####  Northern Hemisphere - Max Temp vs. Latitude Linear Regression"
   ]
  },
  {
   "cell_type": "code",
   "execution_count": 19,
   "metadata": {},
   "outputs": [
    {
     "data": {
      "image/png": "[encoded data removed]",
      "text/plain": [
       "<Figure size 432x288 with 1 Axes>"
      ]
     },
     "metadata": {
      "needs_background": "light"
     },
     "output_type": "display_data"
    }
   ],
   "source": [
    "# Set X and Y vals\n",
    "x_values = northern_df[\"Max Temp\"].astype(float)\n",
    "y_values = northern_df[\"Lat\"].astype(float)\n",
    "# Run regression\n",
    "(slope, intercept, rvalue, pvalue, stderr) = stats.linregress(x_values, y_values)\n",
    "# Get regression values\n",
    "regress_values = x_values * slope + intercept\n",
    "# Create line equation string\n",
    "line_eq = \"y = \" + str(round(slope,2)) + \"x +\" + str(round(intercept,2))\n",
    "# print(regress_values)\n",
    "# To add regress line to your plot:\n",
    "plt.scatter(x_values,y_values)\n",
    "plt.plot(x_values,regress_values,\"r-\")\n",
    "# To add the equation to your plot:\n",
    "plt.annotate(line_eq,(30,10),fontsize=15,color=\"red\")\n",
    "# Make Labels\n",
    "plt.xlabel(\"Max Temp (F)\")\n",
    "plt.ylabel(\"Latitude\")\n",
    "plt.show()"
   ]
  },
  {
   "cell_type": "markdown",
   "metadata": {},
   "source": [
    "####  Southern Hemisphere - Max Temp vs. Latitude Linear Regression"
   ]
  },
  {
   "cell_type": "code",
   "execution_count": 20,
   "metadata": {},
   "outputs": [
    {
     "data": {
      "image/png": "[encoded data removed]",
      "text/plain": [
       "<Figure size 432x288 with 1 Axes>"
      ]
     },
     "metadata": {
      "needs_background": "light"
     },
     "output_type": "display_data"
    }
   ],
   "source": [
    "# Set X and Y vals\n",
    "x_values = southern_df[\"Max Temp\"].astype(float)\n",
    "y_values = southern_df[\"Lat\"].astype(float)\n",
    "# Run regression\n",
    "(slope, intercept, rvalue, pvalue, stderr) = stats.linregress(x_values, y_values)\n",
    "# Get regression values\n",
    "regress_values = x_values * slope + intercept\n",
    "# Create line equation string\n",
    "line_eq = \"y = \" + str(round(slope,2)) + \"x +\" + str(round(intercept,2))\n",
    "# print(regress_values)\n",
    "# To add regress line to your plot:\n",
    "plt.scatter(x_values,y_values)\n",
    "plt.plot(x_values,regress_values,\"r-\")\n",
    "# To add the equation to your plot:\n",
    "plt.annotate(line_eq,(30,10),fontsize=15,color=\"red\")\n",
    "# Make Labels\n",
    "plt.xlabel(\"Max Temp (F)\")\n",
    "plt.ylabel(\"Latitude\")\n",
    "plt.show()"
   ]
  },
  {
   "cell_type": "markdown",
   "metadata": {},
   "source": [
    "####  Northern Hemisphere - Humidity (%) vs. Latitude Linear Regression"
   ]
  },
  {
   "cell_type": "code",
   "execution_count": null,
   "metadata": {},
   "outputs": [],
   "source": []
  },
  {
   "cell_type": "markdown",
   "metadata": {},
   "source": [
    "####  Southern Hemisphere - Humidity (%) vs. Latitude Linear Regression"
   ]
  },
  {
   "cell_type": "code",
   "execution_count": null,
   "metadata": {},
   "outputs": [],
   "source": []
  },
  {
   "cell_type": "markdown",
   "metadata": {},
   "source": [
    "####  Northern Hemisphere - Cloudiness (%) vs. Latitude Linear Regression"
   ]
  },
  {
   "cell_type": "code",
   "execution_count": null,
   "metadata": {},
   "outputs": [],
   "source": []
  },
  {
   "cell_type": "markdown",
   "metadata": {},
   "source": [
    "####  Southern Hemisphere - Cloudiness (%) vs. Latitude Linear Regression"
   ]
  },
  {
   "cell_type": "code",
   "execution_count": null,
   "metadata": {},
   "outputs": [],
   "source": []
  },
  {
   "cell_type": "markdown",
   "metadata": {},
   "source": [
    "####  Northern Hemisphere - Wind Speed (mph) vs. Latitude Linear Regression"
   ]
  },
  {
   "cell_type": "code",
   "execution_count": null,
   "metadata": {},
   "outputs": [],
   "source": []
  },
  {
   "cell_type": "markdown",
   "metadata": {},
   "source": [
    "####  Southern Hemisphere - Wind Speed (mph) vs. Latitude Linear Regression"
   ]
  },
  {
   "cell_type": "code",
   "execution_count": null,
   "metadata": {},
   "outputs": [],
   "source": []
  },
  {
   "cell_type": "code",
   "execution_count": null,
   "metadata": {},
   "outputs": [],
   "source": []
  }
 ],
 "metadata": {
  "anaconda-cloud": {},
  "kernel_info": {
   "name": "python3"
  },
  "kernelspec": {
   "display_name": "Python 3",
   "language": "python",
   "name": "python3"
  },
  "language_info": {
   "codemirror_mode": {
    "name": "ipython",
    "version": 3
   },
   "file_extension": ".py",
   "mimetype": "text/x-python",
   "name": "python",
   "nbconvert_exporter": "python",
   "pygments_lexer": "ipython3",
   "version": "3.7.6"
  },
  "latex_envs": {
   "LaTeX_envs_menu_present": true,
   "autoclose": false,
   "autocomplete": true,
   "bibliofile": "biblio.bib",
   "cite_by": "apalike",
   "current_citInitial": 1,
   "eqLabelWithNumbers": true,
   "eqNumInitial": 1,
   "hotkeys": {
    "equation": "Ctrl-E",
    "itemize": "Ctrl-I"
   },
   "labels_anchors": false,
   "latex_user_defs": false,
   "report_style_numbering": false,
   "user_envs_cfg": false
  },
  "nteract": {
   "version": "0.12.3"
  }
 },
 "nbformat": 4,
 "nbformat_minor": 2
}
