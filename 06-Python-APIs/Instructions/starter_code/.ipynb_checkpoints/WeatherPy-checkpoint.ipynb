{
 "cells": [
  {
   "cell_type": "markdown",
   "metadata": {},
   "source": [
    "# WeatherPy\n",
    "----\n",
    "\n",
    "#### Note\n",
    "* Instructions have been included for each segment. You do not have to follow them exactly, but they are included to help you think through the steps."
   ]
  },
  {
   "cell_type": "code",
   "execution_count": null,
   "metadata": {
    "scrolled": true
   },
   "outputs": [],
   "source": [
    "# Dependencies and Setup\n",
    "import matplotlib.pyplot as plt\n",
    "import pandas as pd\n",
    "import numpy as np\n",
    "import requests\n",
    "import time\n",
    "import scipy.stats as stats\n",
    "import datetime\n",
    "import json\n",
    "from config import api_key\n",
    "# Incorporated citipy to determine city based on latitude and longitude\n",
    "from citipy import citipy\n",
    "# Output File (CSV)\n",
    "output_data_file = \"output_data/cities.csv\"\n",
    "# Range of latitudes and longitudes\n",
    "lat_range = (-90, 90)\n",
    "lng_range = (-180, 180)"
   ]
  },
  {
   "cell_type": "code",
   "execution_count": 2,
   "metadata": {},
   "outputs": [
    {
     "data": {
      "text/plain": [
       "666"
      ]
     },
     "execution_count": 2,
     "metadata": {},
     "output_type": "execute_result"
    }
   ],
   "source": [
    "# List for holding lat_lngs and cities\n",
    "lat_lngs = []\n",
    "cities = []\n",
    "# Create a set of random lat and lng combinations\n",
    "lats = np.random.uniform(low=-90.000, high=90.000, size=1750)\n",
    "lngs = np.random.uniform(low=-180.000, high=180.000, size=1750)\n",
    "lat_lngs = zip(lats, lngs)\n",
    "# Identify nearest city for each lat, lng combination\n",
    "for lat_lng in lat_lngs:\n",
    "    city = citipy.nearest_city(lat_lng[0], lat_lng[1]).city_name\n",
    "    \n",
    "    # If the city is unique, then add it to a our cities list\n",
    "    if city not in cities:\n",
    "        cities.append(city)\n",
    "# Print the city count to confirm sufficient count\n",
    "len(cities)"
   ]
  },
  {
   "cell_type": "markdown",
   "metadata": {},
   "source": [
    "## Generate Cities List"
   ]
  },
  {
   "cell_type": "code",
   "execution_count": null,
   "metadata": {},
   "outputs": [
    {
     "name": "stdout",
     "output_type": "stream",
     "text": [
      "Processing Record 1 | cidreira\n",
      "Processing Record 2 | vostok\n",
      "Processing Record 3 | hilo\n",
      "Processing Record 4 | mar del plata\n",
      "Processing Record 5 | mao\n",
      "Processing Record 6 | illoqqortoormiut\n",
      "Couldn't locate data. Skipping city!\n",
      "Processing Record 7 | mataura\n",
      "Processing Record 8 | rikitea\n",
      "Processing Record 9 | ribeira grande\n",
      "Processing Record 10 | takhtamygda\n",
      "Processing Record 11 | puerto ayora\n",
      "Processing Record 12 | saskylakh\n",
      "Processing Record 13 | punta arenas\n",
      "Processing Record 14 | belushya guba\n",
      "Couldn't locate data. Skipping city!\n",
      "Processing Record 15 | uthal\n",
      "Processing Record 16 | cabo san lucas\n",
      "Processing Record 17 | taolanaro\n",
      "Couldn't locate data. Skipping city!\n",
      "Processing Record 18 | xining\n",
      "Processing Record 19 | paradwip\n",
      "Couldn't locate data. Skipping city!\n",
      "Processing Record 20 | rio tercero\n",
      "Processing Record 21 | bontang\n",
      "Processing Record 22 | bluff\n",
      "Processing Record 23 | ubinskoye\n",
      "Processing Record 24 | bredasdorp\n",
      "Processing Record 25 | chuy\n",
      "Processing Record 26 | makanya\n",
      "Processing Record 27 | barrow\n",
      "Processing Record 28 | georgetown\n",
      "Processing Record 29 | kapaa\n",
      "Processing Record 30 | khatanga\n",
      "Processing Record 31 | roald\n",
      "Processing Record 32 | new norfolk\n",
      "Processing Record 33 | butaritari\n",
      "Processing Record 34 | yellowknife\n",
      "Processing Record 35 | nizhneyansk\n",
      "Couldn't locate data. Skipping city!\n",
      "Processing Record 36 | sept-iles\n",
      "Processing Record 37 | plaster rock\n",
      "Processing Record 38 | ushuaia\n"
     ]
    }
   ],
   "source": [
    "base_url = \"http://api.openweathermap.org/data/2.5/weather?\"\n",
    "units = \"metric\"\n",
    "count = 0\n",
    "city_names = []\n",
    "clouds = []\n",
    "countries = []\n",
    "dates = []\n",
    "humidities = []\n",
    "latitudes = []\n",
    "longitudes = []\n",
    "max_temps = []\n",
    "wind_speeds = []\n",
    "for city in cities:\n",
    "    try:\n",
    "        query = f\"{base_url}appid={api_key}&units={units}&q=\"\n",
    "        response = requests.get(query + city).json()\n",
    "        count = count + 1\n",
    "        print(f\"Processing Record {count} | {city}\")\n",
    "        country = response[\"sys\"][\"country\"]\n",
    "        latitude = response[\"coord\"][\"lat\"]\n",
    "        longitude = response[\"coord\"][\"lon\"]\n",
    "        date = response[\"dt\"]\n",
    "        temp = 1.8*(response[\"main\"][\"temp_max\"]) + 32\n",
    "        humidity = response[\"main\"][\"humidity\"]\n",
    "        cloudiness = response[\"clouds\"][\"all\"]\n",
    "        wind_speed = 2.236936*(response[\"wind\"][\"speed\"])\n",
    "        city_names.append(city)\n",
    "        latitudes.append(latitude)\n",
    "        longitudes.append(longitude)\n",
    "        countries.append(country)\n",
    "        dates.append(date)\n",
    "        max_temps.append(temp)\n",
    "        humidities.append(humidity)\n",
    "        clouds.append(cloudiness)\n",
    "        wind_speeds.append(wind_speed)\n",
    "        \n",
    "    except KeyError:\n",
    "        print(\"Couldn't locate data. Skipping city!\")\n",
    "           \n",
    "weather_data = {\"City\": city_names,\n",
    "                \"Cloudiness\": clouds,\n",
    "                \"Country\": countries,\n",
    "                \"Date\": dates,\n",
    "                \"Humidity\": humidities,\n",
    "                \"Lat\": latitudes,\n",
    "                \"Lng\": longitudes,\n",
    "                \"Max Temp\": max_temps,\n",
    "                \"Wind Speeds\": wind_speeds}\n",
    "weather_reports = pd.DataFrame(weather_data)\n",
    "weather_reports[[\"Max Temp\", \"Wind Speeds\"]] = weather_reports[[\"Max Temp\", \"Wind Speeds\"]].apply(pd.to_numeric)\n",
    "weather_reports[\"Max Temp\"] = weather_reports[\"Max Temp\"].map(\"{:.2f}\".format)\n",
    "weather_reports[\"Wind Speeds\"] = weather_reports[\"Wind Speeds\"].map(\"{:.2f}\".format)\n",
    "weather_reports\n",
    "    "
   ]
  },
  {
   "cell_type": "code",
   "execution_count": null,
   "metadata": {},
   "outputs": [],
   "source": [
    "converted_dates = []\n",
    "for date in dates:\n",
    "    converted_date = datetime.datetime.fromtimestamp(date).strftime(\"%m/%d/%Y\")\n",
    "    converted_dates.append(converted_date)\n",
    "    \n",
    "weather_reports[\"Converted Date\"] = converted_dates\n",
    "weather_reports = weather_reports[[\"City\", \n",
    "                                   \"Cloudiness\", \n",
    "                                   \"Country\", \n",
    "                                   \"Date\", \n",
    "                                   \"Converted Date\", \n",
    "                                   \"Humidity\", \n",
    "                                   \"Lat\", \n",
    "                                   \"Lng\", \n",
    "                                   \"Max Temp\", \n",
    "                                   \"Wind Speeds\"]]\n",
    "plot_date = weather_reports.loc[0, \"Converted Date\"]\n",
    "plt.scatter(weather_reports[\"Lat\"], weather_data[\"Max Temp\"], facecolor=\"#66CDAA\", edgecolor=\"black\")\n",
    "plt.title(f\"City Latitude vs. Max Temperature ({plot_date})\")\n",
    "plt.xlabel(\"Latitude\")\n",
    "plt.ylabel(\"Max Temperature (F)\")\n",
    "plt.grid()\n",
    "plt.show()\n",
    "print(\"The above scatter plot shows the relationship between the latitude of cities and their maximum temperatures, as recorded on June 14, 2020.\")\n"
   ]
  },
  {
   "cell_type": "code",
   "execution_count": null,
   "metadata": {},
   "outputs": [],
   "source": [
    "plt.scatter(weather_reports[\"Lat\"], weather_data[\"Humidity\"], facecolor=\"#E3CF57\", edgecolor=\"black\")\n",
    "plt.title(f\"City Latitude vs. Humidity ({plot_date})\")\n",
    "plt.xlabel(\"Latitude\")\n",
    "plt.ylabel(\"Humidity (%)\")\n",
    "plt.grid()\n",
    "plt.show()\n",
    "print(\"The above scatter plot shows the relationship between the latitude of cities and their humidity, as recorded on June 14, 2020.\")\n"
   ]
  },
  {
   "cell_type": "code",
   "execution_count": null,
   "metadata": {},
   "outputs": [],
   "source": [
    "plt.scatter(weather_reports[\"Lat\"], weather_data[\"Cloudiness\"], facecolor=\"#838B8B\", edgecolor=\"black\")\n",
    "plt.title(f\"City Latitude vs. Humidity ({plot_date})\")\n",
    "plt.xlabel(\"Latitude\")\n",
    "plt.ylabel(\"Cloudiness (%)\")\n",
    "plt.grid()\n",
    "plt.show()\n"
   ]
  },
  {
   "cell_type": "code",
   "execution_count": null,
   "metadata": {},
   "outputs": [],
   "source": [
    "print(\"The above scatter plot shows the relationship between the latitude of cities and their cloudiness, as recorded on June 14, 2020.\")\n",
    "plt.scatter(weather_reports[\"Lat\"], weather_data[\"Wind Speeds\"], facecolor=\"#6495ED\", edgecolor=\"black\")\n",
    "plt.title(f\"City Latitude vs. Wind Speeds ({plot_date})\")\n",
    "plt.xlabel(\"Latitude\")\n",
    "plt.ylabel(\"Wind Speed (mph)\")\n",
    "plt.grid()\n",
    "plt.show()\n",
    "print(\"The above scatter plot shows the relationship between the latitude of cities and wind speeds, as recorded on June 14, 2020.\")"
   ]
  },
  {
   "cell_type": "code",
   "execution_count": null,
   "metadata": {},
   "outputs": [],
   "source": [
    "# Northern DF\n",
    "northern_df = weather_reports.loc[weather_reports[\"Lat\"] > 0,:]\n",
    "print(northern_df)\n"
   ]
  },
  {
   "cell_type": "code",
   "execution_count": null,
   "metadata": {},
   "outputs": [],
   "source": [
    "# Southern DF\n",
    "southern_df = weather_reports.loc[weather_reports[\"Lat\"] < 0,:]\n",
    "southern_df.head()"
   ]
  },
  {
   "cell_type": "code",
   "execution_count": null,
   "metadata": {},
   "outputs": [],
   "source": [
    "# Set X and Y vals\n",
    "x_values = northern_df[\"Max Temp\"].astype(float)\n",
    "y_values = northern_df[\"Lat\"].astype(float)\n",
    "# Run regression\n",
    "(slope, intercept, rvalue, pvalue, stderr) = stats.linregress(x_values, y_values)\n",
    "# Get regression values\n",
    "regress_values = x_values * slope + intercept\n",
    "# Create line equation string\n",
    "line_eq = \"y = \" + str(round(slope,2)) + \"x +\" + str(round(intercept,2))\n",
    "# print(regress_values)\n",
    "# To add regress line to your plot:\n",
    "plt.scatter(x_values,y_values)\n",
    "plt.plot(x_values,regress_values,\"r-\")\n",
    "# To add the equation to your plot:\n",
    "plt.annotate(line_eq,(30,10),fontsize=15,color=\"red\")\n",
    "# Make Labels\n",
    "plt.xlabel(\"Max Temp (F)\")\n",
    "plt.ylabel(\"Latitude\")\n",
    "plt.show()"
   ]
  },
  {
   "cell_type": "code",
   "execution_count": null,
   "metadata": {},
   "outputs": [],
   "source": []
  },
  {
   "cell_type": "code",
   "execution_count": null,
   "metadata": {},
   "outputs": [],
   "source": []
  },
  {
   "cell_type": "markdown",
   "metadata": {},
   "source": [
    "### Perform API Calls\n",
    "* Perform a weather check on each city using a series of successive API calls.\n",
    "* Include a print log of each city as it'sbeing processed (with the city number and city name).\n"
   ]
  },
  {
   "cell_type": "markdown",
   "metadata": {},
   "source": [
    "### Convert Raw Data to DataFrame\n",
    "* Export the city data into a .csv.\n",
    "* Display the DataFrame"
   ]
  },
  {
   "cell_type": "code",
   "execution_count": null,
   "metadata": {},
   "outputs": [],
   "source": []
  },
  {
   "cell_type": "code",
   "execution_count": null,
   "metadata": {},
   "outputs": [],
   "source": []
  },
  {
   "cell_type": "markdown",
   "metadata": {},
   "source": [
    "### Plotting the Data\n",
    "* Use proper labeling of the plots using plot titles (including date of analysis) and axes labels.\n",
    "* Save the plotted figures as .pngs."
   ]
  },
  {
   "cell_type": "markdown",
   "metadata": {},
   "source": [
    "#### Latitude vs. Temperature Plot"
   ]
  },
  {
   "cell_type": "code",
   "execution_count": null,
   "metadata": {
    "scrolled": true
   },
   "outputs": [],
   "source": []
  },
  {
   "cell_type": "markdown",
   "metadata": {},
   "source": [
    "#### Latitude vs. Humidity Plot"
   ]
  },
  {
   "cell_type": "code",
   "execution_count": null,
   "metadata": {},
   "outputs": [],
   "source": []
  },
  {
   "cell_type": "markdown",
   "metadata": {},
   "source": [
    "#### Latitude vs. Cloudiness Plot"
   ]
  },
  {
   "cell_type": "code",
   "execution_count": null,
   "metadata": {},
   "outputs": [],
   "source": []
  },
  {
   "cell_type": "markdown",
   "metadata": {},
   "source": [
    "#### Latitude vs. Wind Speed Plot"
   ]
  },
  {
   "cell_type": "code",
   "execution_count": null,
   "metadata": {},
   "outputs": [],
   "source": []
  },
  {
   "cell_type": "markdown",
   "metadata": {},
   "source": [
    "## Linear Regression"
   ]
  },
  {
   "cell_type": "code",
   "execution_count": null,
   "metadata": {},
   "outputs": [],
   "source": [
    "# OPTIONAL: Create a function to create Linear Regression plots\n"
   ]
  },
  {
   "cell_type": "code",
   "execution_count": null,
   "metadata": {},
   "outputs": [],
   "source": [
    "# Create Northern and Southern Hemisphere DataFrames\n"
   ]
  },
  {
   "cell_type": "markdown",
   "metadata": {},
   "source": [
    "####  Northern Hemisphere - Max Temp vs. Latitude Linear Regression"
   ]
  },
  {
   "cell_type": "code",
   "execution_count": null,
   "metadata": {},
   "outputs": [],
   "source": [
    "# Set X and Y vals\n",
    "x_values = northern_df[\"Max Temp\"].astype(float)\n",
    "y_values = northern_df[\"Lat\"].astype(float)\n",
    "# Run regression\n",
    "(slope, intercept, rvalue, pvalue, stderr) = stats.linregress(x_values, y_values)\n",
    "# Get regression values\n",
    "regress_values = x_values * slope + intercept\n",
    "# Create line equation string\n",
    "line_eq = \"y = \" + str(round(slope,2)) + \"x +\" + str(round(intercept,2))\n",
    "# print(regress_values)\n",
    "# To add regress line to your plot:\n",
    "plt.scatter(x_values,y_values)\n",
    "plt.plot(x_values,regress_values,\"r-\")\n",
    "# To add the equation to your plot:\n",
    "plt.annotate(line_eq,(30,10),fontsize=15,color=\"red\")\n",
    "# Make Labels\n",
    "plt.xlabel(\"Max Temp (F)\")\n",
    "plt.ylabel(\"Latitude\")\n",
    "plt.show()"
   ]
  },
  {
   "cell_type": "markdown",
   "metadata": {},
   "source": [
    "####  Southern Hemisphere - Max Temp vs. Latitude Linear Regression"
   ]
  },
  {
   "cell_type": "code",
   "execution_count": null,
   "metadata": {},
   "outputs": [],
   "source": [
    "# Set X and Y vals\n",
    "x_values = southern_df[\"Max Temp\"].astype(float)\n",
    "y_values = southern_df[\"Lat\"].astype(float)\n",
    "# Run regression\n",
    "(slope, intercept, rvalue, pvalue, stderr) = stats.linregress(x_values, y_values)\n",
    "# Get regression values\n",
    "regress_values = x_values * slope + intercept\n",
    "# Create line equation string\n",
    "line_eq = \"y = \" + str(round(slope,2)) + \"x +\" + str(round(intercept,2))\n",
    "# print(regress_values)\n",
    "# To add regress line to your plot:\n",
    "plt.scatter(x_values,y_values)\n",
    "plt.plot(x_values,regress_values,\"r-\")\n",
    "# To add the equation to your plot:\n",
    "plt.annotate(line_eq,(30,10),fontsize=15,color=\"red\")\n",
    "# Make Labels\n",
    "plt.xlabel(\"Max Temp (F)\")\n",
    "plt.ylabel(\"Latitude\")\n",
    "plt.show()"
   ]
  },
  {
   "cell_type": "markdown",
   "metadata": {},
   "source": [
    "####  Northern Hemisphere - Humidity (%) vs. Latitude Linear Regression"
   ]
  },
  {
   "cell_type": "code",
   "execution_count": null,
   "metadata": {},
   "outputs": [],
   "source": []
  },
  {
   "cell_type": "markdown",
   "metadata": {},
   "source": [
    "####  Southern Hemisphere - Humidity (%) vs. Latitude Linear Regression"
   ]
  },
  {
   "cell_type": "code",
   "execution_count": null,
   "metadata": {},
   "outputs": [],
   "source": []
  },
  {
   "cell_type": "markdown",
   "metadata": {},
   "source": [
    "####  Northern Hemisphere - Cloudiness (%) vs. Latitude Linear Regression"
   ]
  },
  {
   "cell_type": "code",
   "execution_count": null,
   "metadata": {},
   "outputs": [],
   "source": []
  },
  {
   "cell_type": "markdown",
   "metadata": {},
   "source": [
    "####  Southern Hemisphere - Cloudiness (%) vs. Latitude Linear Regression"
   ]
  },
  {
   "cell_type": "code",
   "execution_count": null,
   "metadata": {},
   "outputs": [],
   "source": []
  },
  {
   "cell_type": "markdown",
   "metadata": {},
   "source": [
    "####  Northern Hemisphere - Wind Speed (mph) vs. Latitude Linear Regression"
   ]
  },
  {
   "cell_type": "code",
   "execution_count": null,
   "metadata": {},
   "outputs": [],
   "source": []
  },
  {
   "cell_type": "markdown",
   "metadata": {},
   "source": [
    "####  Southern Hemisphere - Wind Speed (mph) vs. Latitude Linear Regression"
   ]
  },
  {
   "cell_type": "code",
   "execution_count": null,
   "metadata": {},
   "outputs": [],
   "source": []
  },
  {
   "cell_type": "code",
   "execution_count": null,
   "metadata": {},
   "outputs": [],
   "source": []
  }
 ],
 "metadata": {
  "anaconda-cloud": {},
  "kernel_info": {
   "name": "python3"
  },
  "kernelspec": {
   "display_name": "Python 3",
   "language": "python",
   "name": "python3"
  },
  "language_info": {
   "codemirror_mode": {
    "name": "ipython",
    "version": 3
   },
   "file_extension": ".py",
   "mimetype": "text/x-python",
   "name": "python",
   "nbconvert_exporter": "python",
   "pygments_lexer": "ipython3",
   "version": "3.7.6"
  },
  "latex_envs": {
   "LaTeX_envs_menu_present": true,
   "autoclose": false,
   "autocomplete": true,
   "bibliofile": "biblio.bib",
   "cite_by": "apalike",
   "current_citInitial": 1,
   "eqLabelWithNumbers": true,
   "eqNumInitial": 1,
   "hotkeys": {
    "equation": "Ctrl-E",
    "itemize": "Ctrl-I"
   },
   "labels_anchors": false,
   "latex_user_defs": false,
   "report_style_numbering": false,
   "user_envs_cfg": false
  },
  "nteract": {
   "version": "0.12.3"
  }
 },
 "nbformat": 4,
 "nbformat_minor": 2
}
